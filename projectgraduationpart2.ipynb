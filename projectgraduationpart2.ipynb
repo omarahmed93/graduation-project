{
  "nbformat": 4,
  "nbformat_minor": 0,
  "metadata": {
    "colab": {
      "name": "projectgraduationpart2.ipynb",
      "provenance": [],
      "collapsed_sections": [],
      "mount_file_id": "17MscJGd0sa8qA-apsdV6MSSygvjTK0Wv",
      "authorship_tag": "ABX9TyPPlHb/vZ9ehgrUBcK4USv5",
      "include_colab_link": true
    },
    "kernelspec": {
      "name": "python3",
      "display_name": "Python 3"
    },
    "language_info": {
      "name": "python"
    },
    "accelerator": "TPU",
    "gpuClass": "standard"
  },
  "cells": [
    {
      "cell_type": "markdown",
      "metadata": {
        "id": "view-in-github",
        "colab_type": "text"
      },
      "source": [
        "<a href=\"https://colab.research.google.com/github/omarahmed93/graduation-project/blob/main/projectgraduationpart2.ipynb\" target=\"_parent\"><img src=\"https://colab.research.google.com/assets/colab-badge.svg\" alt=\"Open In Colab\"/></a>"
      ]
    },
    {
      "cell_type": "code",
      "execution_count": 1,
      "metadata": {
        "id": "pGeaG9SVoehe"
      },
      "outputs": [],
      "source": [
        "import numpy as np\n",
        "import cv2\n",
        "from tensorflow.keras.models import load_model\n",
        "from imutils.contours import sort_contours\n",
        "import imutils\n",
        "from google.colab.patches import cv2_imshow"
      ]
    },
    {
      "cell_type": "code",
      "source": [
        "from google.colab import drive\n",
        "drive.mount('/content/drive')"
      ],
      "metadata": {
        "colab": {
          "base_uri": "https://localhost:8080/"
        },
        "id": "HpGYKlmGo7WY",
        "outputId": "87a3d589-3535-48e2-8390-418483d730c7"
      },
      "execution_count": 2,
      "outputs": [
        {
          "output_type": "stream",
          "name": "stdout",
          "text": [
            "Drive already mounted at /content/drive; to attempt to forcibly remount, call drive.mount(\"/content/drive\", force_remount=True).\n"
          ]
        }
      ]
    },
    {
      "cell_type": "code",
      "source": [
        "model= load_model('/content/drive/MyDrive/model (1)')"
      ],
      "metadata": {
        "id": "ppHymqV3p9-F"
      },
      "execution_count": 3,
      "outputs": []
    },
    {
      "cell_type": "code",
      "source": [
        "model"
      ],
      "metadata": {
        "colab": {
          "base_uri": "https://localhost:8080/"
        },
        "id": "VzJAkQtDqWhm",
        "outputId": "f746f519-3b3c-483e-b011-ce63fc56d3c2"
      },
      "execution_count": 4,
      "outputs": [
        {
          "output_type": "execute_result",
          "data": {
            "text/plain": [
              "<keras.engine.sequential.Sequential at 0x7fe204dadf10>"
            ]
          },
          "metadata": {},
          "execution_count": 4
        }
      ]
    },
    {
      "cell_type": "code",
      "source": [
        "model.summary()"
      ],
      "metadata": {
        "colab": {
          "base_uri": "https://localhost:8080/"
        },
        "id": "6Xubf2dBqaij",
        "outputId": "46f2157b-552c-41f7-ab07-4bd504b287c1"
      },
      "execution_count": 5,
      "outputs": [
        {
          "output_type": "stream",
          "name": "stdout",
          "text": [
            "Model: \"sequential\"\n",
            "_________________________________________________________________\n",
            " Layer (type)                Output Shape              Param #   \n",
            "=================================================================\n",
            " conv2d (Conv2D)             (None, 26, 26, 16)        160       \n",
            "                                                                 \n",
            " max_pooling2d (MaxPooling2D  (None, 13, 13, 16)       0         \n",
            " )                                                               \n",
            "                                                                 \n",
            " conv2d_1 (Conv2D)           (None, 11, 11, 64)        9280      \n",
            "                                                                 \n",
            " max_pooling2d_1 (MaxPooling  (None, 5, 5, 64)         0         \n",
            " 2D)                                                             \n",
            "                                                                 \n",
            " conv2d_2 (Conv2D)           (None, 3, 3, 128)         73856     \n",
            "                                                                 \n",
            " dropout (Dropout)           (None, 3, 3, 128)         0         \n",
            "                                                                 \n",
            " flatten (Flatten)           (None, 1152)              0         \n",
            "                                                                 \n",
            " dense (Dense)               (None, 256)               295168    \n",
            "                                                                 \n",
            " dense_1 (Dense)             (None, 512)               131584    \n",
            "                                                                 \n",
            " dropout_1 (Dropout)         (None, 512)               0         \n",
            "                                                                 \n",
            " dense_2 (Dense)             (None, 1024)              525312    \n",
            "                                                                 \n",
            " dense_3 (Dense)             (None, 26)                26650     \n",
            "                                                                 \n",
            "=================================================================\n",
            "Total params: 1,062,010\n",
            "Trainable params: 1,062,010\n",
            "Non-trainable params: 0\n",
            "_________________________________________________________________\n"
          ]
        }
      ]
    },
    {
      "cell_type": "code",
      "source": [
        "img = cv2.imread('/content/0000553.png')\n",
        "gray = cv2.cvtColor(img, cv2.COLOR_BGR2GRAY)\n",
        "cv2_imshow(img)\n",
        "cv2_imshow(gray)"
      ],
      "metadata": {
        "colab": {
          "base_uri": "https://localhost:8080/",
          "height": 99
        },
        "id": "U-4mCltKqozM",
        "outputId": "372edfe2-a821-4c2c-ead5-2b2cc2709479"
      },
      "execution_count": 6,
      "outputs": [
        {
          "output_type": "display_data",
          "data": {
            "text/plain": [
              "<PIL.Image.Image image mode=RGB size=154x41 at 0x7FE1FD49D490>"
            ],
            "image/png": "[encoded data removed]"
          },
          "metadata": {}
        },
        {
          "output_type": "display_data",
          "data": {
            "text/plain": [
              "<PIL.Image.Image image mode=L size=154x41 at 0x7FE1FD494E10>"
            ],
            "image/png": "[encoded data removed]"
          },
          "metadata": {}
        }
      ]
    },
    {
      "cell_type": "code",
      "source": [
        "blur = cv2.GaussianBlur(gray, (3,3), 0)\n",
        "cv2_imshow(blur)"
      ],
      "metadata": {
        "colab": {
          "base_uri": "https://localhost:8080/",
          "height": 58
        },
        "id": "L_Wmgpa6rSjF",
        "outputId": "1f15f0f9-2c15-40dd-fc81-838b10663ad4"
      },
      "execution_count": 7,
      "outputs": [
        {
          "output_type": "display_data",
          "data": {
            "text/plain": [
              "<PIL.Image.Image image mode=L size=154x41 at 0x7FE1FD378710>"
            ],
            "image/png": "[encoded data removed]"
          },
          "metadata": {}
        }
      ]
    },
    {
      "cell_type": "code",
      "source": [
        "adaptive = cv2.adaptiveThreshold(blur, 255, cv2.ADAPTIVE_THRESH_GAUSSIAN_C, cv2.THRESH_BINARY, 11, 9)\n",
        "cv2_imshow(adaptive)"
      ],
      "metadata": {
        "colab": {
          "base_uri": "https://localhost:8080/",
          "height": 58
        },
        "id": "nvJ9fD7Hrb2r",
        "outputId": "40ca3494-e545-4788-8212-a5eda326d27c"
      },
      "execution_count": 8,
      "outputs": [
        {
          "output_type": "display_data",
          "data": {
            "text/plain": [
              "<PIL.Image.Image image mode=L size=154x41 at 0x7FE1FD378350>"
            ],
            "image/png": "[encoded data removed]"
          },
          "metadata": {}
        }
      ]
    },
    {
      "cell_type": "code",
      "source": [
        "invertion = 255 - adaptive\n",
        "cv2_imshow(invertion)"
      ],
      "metadata": {
        "colab": {
          "base_uri": "https://localhost:8080/",
          "height": 58
        },
        "id": "ZDJZVibXrdM8",
        "outputId": "bf9d6b85-fdde-4c05-b59a-fb33e1151ce2"
      },
      "execution_count": 9,
      "outputs": [
        {
          "output_type": "display_data",
          "data": {
            "text/plain": [
              "<PIL.Image.Image image mode=L size=154x41 at 0x7FE1FD380C50>"
            ],
            "image/png": "[encoded data removed]"
          },
          "metadata": {}
        }
      ]
    },
    {
      "cell_type": "code",
      "source": [
        "dilation = cv2.dilate(invertion, np.ones((3,3)))\n",
        "cv2_imshow(dilation)"
      ],
      "metadata": {
        "colab": {
          "base_uri": "https://localhost:8080/",
          "height": 58
        },
        "id": "gZoGrf_-rfC4",
        "outputId": "cfaf818b-3776-421e-f6c7-a466f460f343"
      },
      "execution_count": 10,
      "outputs": [
        {
          "output_type": "display_data",
          "data": {
            "text/plain": [
              "<PIL.Image.Image image mode=L size=154x41 at 0x7FE1FD49DD10>"
            ],
            "image/png": "[encoded data removed]"
          },
          "metadata": {}
        }
      ]
    },
    {
      "cell_type": "code",
      "source": [
        "edges = cv2.Canny(dilation, 40, 150)\n",
        "cv2_imshow(edges)"
      ],
      "metadata": {
        "colab": {
          "base_uri": "https://localhost:8080/",
          "height": 58
        },
        "id": "kdIomEbvroQB",
        "outputId": "663d5868-b980-401c-f9f0-818542640fac"
      },
      "execution_count": 11,
      "outputs": [
        {
          "output_type": "display_data",
          "data": {
            "text/plain": [
              "<PIL.Image.Image image mode=L size=154x41 at 0x7FE1FD3ECB50>"
            ],
            "image/png": "[encoded data removed]"
          },
          "metadata": {}
        }
      ]
    },
    {
      "cell_type": "code",
      "source": [
        "def find_contours(img):\n",
        "  conts = cv2.findContours(img, cv2.RETR_EXTERNAL, cv2.CHAIN_APPROX_SIMPLE)\n",
        "  conts = imutils.grab_contours(conts)\n",
        "  conts = sort_contours(conts, method = 'left-to-right')[0]\n",
        "  return conts"
      ],
      "metadata": {
        "id": "yltJOkJCrs95"
      },
      "execution_count": 12,
      "outputs": []
    },
    {
      "cell_type": "code",
      "source": [
        "conts = find_contours(dilation.copy())"
      ],
      "metadata": {
        "id": "R2mieGMSrw9w"
      },
      "execution_count": 13,
      "outputs": []
    },
    {
      "cell_type": "code",
      "source": [
        "conts"
      ],
      "metadata": {
        "colab": {
          "base_uri": "https://localhost:8080/"
        },
        "id": "kug__lQtrymF",
        "outputId": "a9df3f0f-0871-4749-df97-898350da7aa7"
      },
      "execution_count": 14,
      "outputs": [
        {
          "output_type": "execute_result",
          "data": {
            "text/plain": [
              "(array([[[11,  9]],\n",
              " \n",
              "        [[10, 10]],\n",
              " \n",
              "        [[ 9, 10]],\n",
              " \n",
              "        [[ 8, 11]],\n",
              " \n",
              "        [[ 7, 11]],\n",
              " \n",
              "        [[ 7, 12]],\n",
              " \n",
              "        [[ 5, 14]],\n",
              " \n",
              "        [[ 5, 15]],\n",
              " \n",
              "        [[ 4, 16]],\n",
              " \n",
              "        [[ 4, 19]],\n",
              " \n",
              "        [[ 3, 20]],\n",
              " \n",
              "        [[ 3, 25]],\n",
              " \n",
              "        [[ 4, 26]],\n",
              " \n",
              "        [[ 4, 28]],\n",
              " \n",
              "        [[ 8, 32]],\n",
              " \n",
              "        [[ 9, 32]],\n",
              " \n",
              "        [[10, 33]],\n",
              " \n",
              "        [[11, 33]],\n",
              " \n",
              "        [[12, 34]],\n",
              " \n",
              "        [[15, 34]],\n",
              " \n",
              "        [[16, 35]],\n",
              " \n",
              "        [[19, 35]],\n",
              " \n",
              "        [[20, 34]],\n",
              " \n",
              "        [[22, 34]],\n",
              " \n",
              "        [[22, 32]],\n",
              " \n",
              "        [[21, 32]],\n",
              " \n",
              "        [[20, 31]],\n",
              " \n",
              "        [[15, 31]],\n",
              " \n",
              "        [[14, 30]],\n",
              " \n",
              "        [[13, 30]],\n",
              " \n",
              "        [[12, 29]],\n",
              " \n",
              "        [[11, 29]],\n",
              " \n",
              "        [[ 7, 25]],\n",
              " \n",
              "        [[ 7, 20]],\n",
              " \n",
              "        [[ 8, 19]],\n",
              " \n",
              "        [[ 8, 18]],\n",
              " \n",
              "        [[ 9, 17]],\n",
              " \n",
              "        [[ 9, 16]],\n",
              " \n",
              "        [[12, 13]],\n",
              " \n",
              "        [[15, 13]],\n",
              " \n",
              "        [[16, 14]],\n",
              " \n",
              "        [[17, 14]],\n",
              " \n",
              "        [[19, 16]],\n",
              " \n",
              "        [[22, 16]],\n",
              " \n",
              "        [[22, 13]],\n",
              " \n",
              "        [[19, 10]],\n",
              " \n",
              "        [[17, 10]],\n",
              " \n",
              "        [[16,  9]]], dtype=int32), array([[[27, 17]],\n",
              " \n",
              "        [[23, 21]],\n",
              " \n",
              "        [[23, 29]],\n",
              " \n",
              "        [[26, 32]],\n",
              " \n",
              "        [[32, 32]],\n",
              " \n",
              "        [[33, 31]],\n",
              " \n",
              "        [[33, 25]],\n",
              " \n",
              "        [[31, 23]],\n",
              " \n",
              "        [[31, 22]],\n",
              " \n",
              "        [[32, 21]],\n",
              " \n",
              "        [[32, 18]],\n",
              " \n",
              "        [[31, 17]]], dtype=int32), array([[[37,  5]],\n",
              " \n",
              "        [[37, 10]],\n",
              " \n",
              "        [[38, 11]],\n",
              " \n",
              "        [[38, 14]],\n",
              " \n",
              "        [[39, 15]],\n",
              " \n",
              "        [[39, 17]],\n",
              " \n",
              "        [[40, 18]],\n",
              " \n",
              "        [[40, 20]],\n",
              " \n",
              "        [[41, 21]],\n",
              " \n",
              "        [[41, 23]],\n",
              " \n",
              "        [[42, 24]],\n",
              " \n",
              "        [[42, 29]],\n",
              " \n",
              "        [[43, 30]],\n",
              " \n",
              "        [[43, 32]],\n",
              " \n",
              "        [[44, 33]],\n",
              " \n",
              "        [[47, 33]],\n",
              " \n",
              "        [[47, 32]],\n",
              " \n",
              "        [[48, 31]],\n",
              " \n",
              "        [[48, 29]],\n",
              " \n",
              "        [[46, 27]],\n",
              " \n",
              "        [[46, 24]],\n",
              " \n",
              "        [[45, 23]],\n",
              " \n",
              "        [[45, 20]],\n",
              " \n",
              "        [[44, 19]],\n",
              " \n",
              "        [[44, 17]],\n",
              " \n",
              "        [[43, 16]],\n",
              " \n",
              "        [[43, 14]],\n",
              " \n",
              "        [[42, 13]],\n",
              " \n",
              "        [[42, 11]],\n",
              " \n",
              "        [[41, 10]],\n",
              " \n",
              "        [[41,  6]],\n",
              " \n",
              "        [[40,  5]]], dtype=int32), array([[[49,  6]],\n",
              " \n",
              "        [[49, 10]],\n",
              " \n",
              "        [[50, 11]],\n",
              " \n",
              "        [[50, 14]],\n",
              " \n",
              "        [[51, 15]],\n",
              " \n",
              "        [[51, 18]],\n",
              " \n",
              "        [[52, 19]],\n",
              " \n",
              "        [[52, 23]],\n",
              " \n",
              "        [[53, 24]],\n",
              " \n",
              "        [[53, 26]],\n",
              " \n",
              "        [[54, 27]],\n",
              " \n",
              "        [[54, 29]],\n",
              " \n",
              "        [[56, 31]],\n",
              " \n",
              "        [[59, 31]],\n",
              " \n",
              "        [[59, 28]],\n",
              " \n",
              "        [[60, 27]],\n",
              " \n",
              "        [[61, 28]],\n",
              " \n",
              "        [[61, 29]],\n",
              " \n",
              "        [[63, 31]],\n",
              " \n",
              "        [[69, 31]],\n",
              " \n",
              "        [[71, 29]],\n",
              " \n",
              "        [[71, 23]],\n",
              " \n",
              "        [[68, 23]],\n",
              " \n",
              "        [[67, 22]],\n",
              " \n",
              "        [[67, 20]],\n",
              " \n",
              "        [[66, 19]],\n",
              " \n",
              "        [[62, 19]],\n",
              " \n",
              "        [[61, 20]],\n",
              " \n",
              "        [[61, 21]],\n",
              " \n",
              "        [[60, 22]],\n",
              " \n",
              "        [[60, 27]],\n",
              " \n",
              "        [[59, 28]],\n",
              " \n",
              "        [[58, 27]],\n",
              " \n",
              "        [[58, 26]],\n",
              " \n",
              "        [[57, 25]],\n",
              " \n",
              "        [[57, 23]],\n",
              " \n",
              "        [[56, 22]],\n",
              " \n",
              "        [[56, 19]],\n",
              " \n",
              "        [[55, 18]],\n",
              " \n",
              "        [[55, 16]],\n",
              " \n",
              "        [[54, 15]],\n",
              " \n",
              "        [[54,  8]],\n",
              " \n",
              "        [[53,  7]],\n",
              " \n",
              "        [[53,  6]]], dtype=int32), array([[[75, 19]],\n",
              " \n",
              "        [[74, 20]],\n",
              " \n",
              "        [[74, 22]],\n",
              " \n",
              "        [[75, 23]],\n",
              " \n",
              "        [[75, 24]],\n",
              " \n",
              "        [[76, 25]],\n",
              " \n",
              "        [[76, 28]],\n",
              " \n",
              "        [[77, 29]],\n",
              " \n",
              "        [[77, 31]],\n",
              " \n",
              "        [[78, 32]],\n",
              " \n",
              "        [[82, 32]],\n",
              " \n",
              "        [[82, 30]],\n",
              " \n",
              "        [[81, 29]],\n",
              " \n",
              "        [[81, 28]],\n",
              " \n",
              "        [[80, 27]],\n",
              " \n",
              "        [[80, 25]],\n",
              " \n",
              "        [[79, 24]],\n",
              " \n",
              "        [[79, 22]],\n",
              " \n",
              "        [[78, 21]],\n",
              " \n",
              "        [[78, 20]],\n",
              " \n",
              "        [[77, 19]]], dtype=int32), array([[[82, 13]],\n",
              " \n",
              "        [[82, 16]],\n",
              " \n",
              "        [[84, 18]],\n",
              " \n",
              "        [[86, 18]],\n",
              " \n",
              "        [[87, 17]],\n",
              " \n",
              "        [[87, 15]],\n",
              " \n",
              "        [[86, 14]],\n",
              " \n",
              "        [[86, 13]]], dtype=int32), array([[[ 93,   7]],\n",
              " \n",
              "        [[ 93,  11]],\n",
              " \n",
              "        [[ 94,  12]],\n",
              " \n",
              "        [[ 94,  13]],\n",
              " \n",
              "        [[ 95,  14]],\n",
              " \n",
              "        [[ 95,  17]],\n",
              " \n",
              "        [[ 96,  18]],\n",
              " \n",
              "        [[ 96,  20]],\n",
              " \n",
              "        [[ 97,  21]],\n",
              " \n",
              "        [[ 97,  24]],\n",
              " \n",
              "        [[ 98,  25]],\n",
              " \n",
              "        [[ 98,  27]],\n",
              " \n",
              "        [[ 99,  28]],\n",
              " \n",
              "        [[ 98,  29]],\n",
              " \n",
              "        [[ 95,  29]],\n",
              " \n",
              "        [[ 94,  28]],\n",
              " \n",
              "        [[ 93,  28]],\n",
              " \n",
              "        [[ 92,  27]],\n",
              " \n",
              "        [[ 91,  27]],\n",
              " \n",
              "        [[ 90,  26]],\n",
              " \n",
              "        [[ 90,  25]],\n",
              " \n",
              "        [[ 92,  23]],\n",
              " \n",
              "        [[ 94,  23]],\n",
              " \n",
              "        [[ 94,  19]],\n",
              " \n",
              "        [[ 89,  19]],\n",
              " \n",
              "        [[ 86,  22]],\n",
              " \n",
              "        [[ 86,  28]],\n",
              " \n",
              "        [[ 88,  30]],\n",
              " \n",
              "        [[ 89,  30]],\n",
              " \n",
              "        [[ 90,  31]],\n",
              " \n",
              "        [[ 92,  31]],\n",
              " \n",
              "        [[ 93,  32]],\n",
              " \n",
              "        [[ 98,  32]],\n",
              " \n",
              "        [[ 98,  31]],\n",
              " \n",
              "        [[ 99,  30]],\n",
              " \n",
              "        [[102,  33]],\n",
              " \n",
              "        [[106,  33]],\n",
              " \n",
              "        [[106,  31]],\n",
              " \n",
              "        [[103,  28]],\n",
              " \n",
              "        [[103,  27]],\n",
              " \n",
              "        [[102,  26]],\n",
              " \n",
              "        [[102,  23]],\n",
              " \n",
              "        [[101,  22]],\n",
              " \n",
              "        [[101,  19]],\n",
              " \n",
              "        [[100,  18]],\n",
              " \n",
              "        [[100,  16]],\n",
              " \n",
              "        [[ 99,  15]],\n",
              " \n",
              "        [[ 99,  13]],\n",
              " \n",
              "        [[ 98,  12]],\n",
              " \n",
              "        [[ 98,  10]],\n",
              " \n",
              "        [[ 97,   9]],\n",
              " \n",
              "        [[ 97,   8]],\n",
              " \n",
              "        [[ 96,   7]]], dtype=int32), array([[[112,  18]],\n",
              " \n",
              "        [[111,  19]],\n",
              " \n",
              "        [[110,  19]],\n",
              " \n",
              "        [[109,  20]],\n",
              " \n",
              "        [[108,  20]],\n",
              " \n",
              "        [[108,  27]],\n",
              " \n",
              "        [[109,  28]],\n",
              " \n",
              "        [[109,  29]],\n",
              " \n",
              "        [[112,  32]],\n",
              " \n",
              "        [[115,  32]],\n",
              " \n",
              "        [[116,  33]],\n",
              " \n",
              "        [[119,  33]],\n",
              " \n",
              "        [[120,  32]],\n",
              " \n",
              "        [[121,  32]],\n",
              " \n",
              "        [[122,  31]],\n",
              " \n",
              "        [[123,  31]],\n",
              " \n",
              "        [[124,  30]],\n",
              " \n",
              "        [[124,  27]],\n",
              " \n",
              "        [[125,  26]],\n",
              " \n",
              "        [[126,  27]],\n",
              " \n",
              "        [[126,  29]],\n",
              " \n",
              "        [[127,  30]],\n",
              " \n",
              "        [[127,  31]],\n",
              " \n",
              "        [[128,  32]],\n",
              " \n",
              "        [[128,  33]],\n",
              " \n",
              "        [[131,  36]],\n",
              " \n",
              "        [[135,  36]],\n",
              " \n",
              "        [[135,  34]],\n",
              " \n",
              "        [[136,  33]],\n",
              " \n",
              "        [[138,  33]],\n",
              " \n",
              "        [[138,  31]],\n",
              " \n",
              "        [[139,  30]],\n",
              " \n",
              "        [[139,  28]],\n",
              " \n",
              "        [[140,  27]],\n",
              " \n",
              "        [[141,  27]],\n",
              " \n",
              "        [[142,  28]],\n",
              " \n",
              "        [[142,  30]],\n",
              " \n",
              "        [[144,  32]],\n",
              " \n",
              "        [[144,  33]],\n",
              " \n",
              "        [[145,  34]],\n",
              " \n",
              "        [[150,  34]],\n",
              " \n",
              "        [[150,  32]],\n",
              " \n",
              "        [[145,  27]],\n",
              " \n",
              "        [[145,  25]],\n",
              " \n",
              "        [[144,  24]],\n",
              " \n",
              "        [[144,  23]],\n",
              " \n",
              "        [[143,  22]],\n",
              " \n",
              "        [[143,  21]],\n",
              " \n",
              "        [[142,  20]],\n",
              " \n",
              "        [[139,  20]],\n",
              " \n",
              "        [[139,  22]],\n",
              " \n",
              "        [[138,  23]],\n",
              " \n",
              "        [[138,  24]],\n",
              " \n",
              "        [[137,  25]],\n",
              " \n",
              "        [[137,  26]],\n",
              " \n",
              "        [[136,  27]],\n",
              " \n",
              "        [[136,  28]],\n",
              " \n",
              "        [[134,  30]],\n",
              " \n",
              "        [[134,  31]],\n",
              " \n",
              "        [[133,  32]],\n",
              " \n",
              "        [[131,  30]],\n",
              " \n",
              "        [[131,  29]],\n",
              " \n",
              "        [[130,  28]],\n",
              " \n",
              "        [[130,  27]],\n",
              " \n",
              "        [[129,  26]],\n",
              " \n",
              "        [[129,  25]],\n",
              " \n",
              "        [[128,  24]],\n",
              " \n",
              "        [[128,  23]],\n",
              " \n",
              "        [[127,  22]],\n",
              " \n",
              "        [[127,  21]],\n",
              " \n",
              "        [[123,  21]],\n",
              " \n",
              "        [[123,  24]],\n",
              " \n",
              "        [[120,  27]],\n",
              " \n",
              "        [[120,  28]],\n",
              " \n",
              "        [[118,  30]],\n",
              " \n",
              "        [[117,  29]],\n",
              " \n",
              "        [[115,  29]],\n",
              " \n",
              "        [[112,  26]],\n",
              " \n",
              "        [[112,  25]],\n",
              " \n",
              "        [[111,  24]],\n",
              " \n",
              "        [[113,  22]],\n",
              " \n",
              "        [[118,  22]],\n",
              " \n",
              "        [[118,  19]],\n",
              " \n",
              "        [[117,  18]]], dtype=int32))"
            ]
          },
          "metadata": {},
          "execution_count": 14
        }
      ]
    },
    {
      "cell_type": "code",
      "source": [
        "min_w, max_w = 4, 160\n",
        "min_h, max_h = 14, 140\n",
        "img_copy = img.copy()\n",
        "for c in conts:\n",
        "  #print(c)\n",
        "  (x, y, w, h) = cv2.boundingRect(c)\n",
        "  #print(x, y, w, h)\n",
        "  if (w >= min_w and w <= max_w) and (h >= min_h and h <= max_h):\n",
        "    roi = gray[y:y+h, x:x+w]\n",
        "    #cv2_imshow(roi)\n",
        "    thresh = cv2.threshold(roi, 0, 255, cv2.THRESH_BINARY_INV | cv2.THRESH_OTSU)[1]\n",
        "    cv2_imshow(thresh)\n",
        "    cv2.rectangle(img_copy, (x, y), (x + w, y + h), (255, 100, 0), 2)\n",
        "cv2_imshow(img_copy)"
      ],
      "metadata": {
        "colab": {
          "base_uri": "https://localhost:8080/",
          "height": 221
        },
        "id": "4Y55Tg8zr1Ua",
        "outputId": "05deecb0-843f-4fb5-e837-3808d1027247"
      },
      "execution_count": 15,
      "outputs": [
        {
          "output_type": "display_data",
          "data": {
            "text/plain": [
              "<PIL.Image.Image image mode=L size=20x27 at 0x7FE1FD39CAD0>"
            ],
            "image/png": "[encoded data removed]"
          },
          "metadata": {}
        },
        {
          "output_type": "display_data",
          "data": {
            "text/plain": [
              "<PIL.Image.Image image mode=L size=11x16 at 0x7FE1FD388710>"
            ],
            "image/png": "[encoded data removed]"
          },
          "metadata": {}
        },
        {
          "output_type": "display_data",
          "data": {
            "text/plain": [
              "<PIL.Image.Image image mode=L size=12x29 at 0x7FE1FD388510>"
            ],
            "image/png": "[encoded data removed]"
          },
          "metadata": {}
        },
        {
          "output_type": "display_data",
          "data": {
            "text/plain": [
              "<PIL.Image.Image image mode=L size=23x26 at 0x7FE1FD388650>"
            ],
            "image/png": "[encoded data removed]"
          },
          "metadata": {}
        },
        {
          "output_type": "display_data",
          "data": {
            "text/plain": [
              "<PIL.Image.Image image mode=L size=9x14 at 0x7FE1FD388410>"
            ],
            "image/png": "[encoded data removed]"
          },
          "metadata": {}
        },
        {
          "output_type": "display_data",
          "data": {
            "text/plain": [
              "<PIL.Image.Image image mode=L size=21x27 at 0x7FE1FD388590>"
            ],
            "image/png": "[encoded data removed]"
          },
          "metadata": {}
        },
        {
          "output_type": "display_data",
          "data": {
            "text/plain": [
              "<PIL.Image.Image image mode=L size=43x19 at 0x7FE1FD3886D0>"
            ],
            "image/png": "[encoded data removed]"
          },
          "metadata": {}
        },
        {
          "output_type": "display_data",
          "data": {
            "text/plain": [
              "<PIL.Image.Image image mode=RGB size=154x41 at 0x7FE1FD388890>"
            ],
            "image/png": "[encoded data removed]"
          },
          "metadata": {}
        }
      ]
    },
    {
      "cell_type": "code",
      "source": [
        "def extract_roi(img):\n",
        "  roi = img[y:y + h, x:x + w]\n",
        "  return roi"
      ],
      "metadata": {
        "id": "sauBKvGIsIQk"
      },
      "execution_count": 16,
      "outputs": []
    },
    {
      "cell_type": "code",
      "source": [
        "def thresholding(img):\n",
        "  thresh = cv2.threshold(img, 0, 255, cv2.THRESH_BINARY_INV | cv2.THRESH_OTSU)[1]\n",
        "  return thresh"
      ],
      "metadata": {
        "id": "vYb5ulDysLzw"
      },
      "execution_count": 17,
      "outputs": []
    },
    {
      "cell_type": "code",
      "source": [
        "def resize_img(img, w, h):\n",
        "  if w > h:\n",
        "    resized = imutils.resize(img, width = 28)\n",
        "  else:\n",
        "    resized = imutils.resize(img, height = 28)\n",
        "\n",
        "  (h, w) = resized.shape\n",
        "  dX = int(max(0, 28 - w) / 2.0)\n",
        "  dY = int(max(0, 28 - h) / 2.0)\n",
        "\n",
        "  filled = cv2.copyMakeBorder(resized, top=dY, bottom=dY, right=dX, left=dX, borderType=cv2.BORDER_CONSTANT, value = (0,0,0))\n",
        "  filled = cv2.resize(filled, (28,28))\n",
        "  return filled"
      ],
      "metadata": {
        "id": "6D0rVBgFsO5I"
      },
      "execution_count": 18,
      "outputs": []
    },
    {
      "cell_type": "code",
      "source": [
        "(x, y, w, h) = cv2.boundingRect(conts[1])\n",
        "print(x, y, w, h)\n",
        "test_img = thresholding(gray[y:y+h, x:x+w])\n",
        "cv2_imshow(test_img)\n",
        "(h, w) = test_img.shape\n",
        "print(h, w)\n",
        "test_img2 = resize_img(test_img, w, h)\n",
        "cv2_imshow(test_img2)\n",
        "print(test_img2.shape)"
      ],
      "metadata": {
        "colab": {
          "base_uri": "https://localhost:8080/",
          "height": 114
        },
        "id": "utokXOj2sRkE",
        "outputId": "cca33bff-96d5-4375-d9a0-28259e3f80c7"
      },
      "execution_count": 19,
      "outputs": [
        {
          "output_type": "stream",
          "name": "stdout",
          "text": [
            "23 17 11 16\n"
          ]
        },
        {
          "output_type": "display_data",
          "data": {
            "text/plain": [
              "<PIL.Image.Image image mode=L size=11x16 at 0x7FE1FD389510>"
            ],
            "image/png": "[encoded data removed]"
          },
          "metadata": {}
        },
        {
          "output_type": "stream",
          "name": "stdout",
          "text": [
            "16 11\n"
          ]
        },
        {
          "output_type": "display_data",
          "data": {
            "text/plain": [
              "<PIL.Image.Image image mode=L size=28x28 at 0x7FE1FD388050>"
            ],
            "image/png": "[encoded data removed]"
          },
          "metadata": {}
        },
        {
          "output_type": "stream",
          "name": "stdout",
          "text": [
            "(28, 28)\n"
          ]
        }
      ]
    },
    {
      "cell_type": "code",
      "source": [
        "cv2_imshow(cv2.resize(test_img, (28,28)))"
      ],
      "metadata": {
        "colab": {
          "base_uri": "https://localhost:8080/",
          "height": 45
        },
        "id": "tN9a3wJ0sX1R",
        "outputId": "24b494d9-2732-4a45-85fb-2ed0f4281724"
      },
      "execution_count": 20,
      "outputs": [
        {
          "output_type": "display_data",
          "data": {
            "text/plain": [
              "<PIL.Image.Image image mode=L size=28x28 at 0x7FE1FD389E50>"
            ],
            "image/png": "[encoded data removed]"
          },
          "metadata": {}
        }
      ]
    },
    {
      "cell_type": "code",
      "source": [
        "def normalization(img):\n",
        "  img = img.astype('float32') / 255.0\n",
        "  img = np.expand_dims(img, axis = -1)\n",
        "  return img"
      ],
      "metadata": {
        "id": "pkz5Mm3wscv3"
      },
      "execution_count": 21,
      "outputs": []
    },
    {
      "cell_type": "code",
      "source": [
        "test_img2.shape, normalization(test_img2).shape"
      ],
      "metadata": {
        "colab": {
          "base_uri": "https://localhost:8080/"
        },
        "id": "f-d6oY72seNK",
        "outputId": "130fda90-2e65-4f01-f5f7-ede2428e64ba"
      },
      "execution_count": 22,
      "outputs": [
        {
          "output_type": "execute_result",
          "data": {
            "text/plain": [
              "((28, 28), (28, 28, 1))"
            ]
          },
          "metadata": {},
          "execution_count": 22
        }
      ]
    },
    {
      "cell_type": "code",
      "source": [
        "characters = []"
      ],
      "metadata": {
        "id": "tIaNWqmOsgTg"
      },
      "execution_count": 23,
      "outputs": []
    },
    {
      "cell_type": "code",
      "source": [
        "def process_box(gray, x, y, w, h):\n",
        "  roi = extract_roi(gray)\n",
        "  thresh = thresholding(roi)\n",
        "  (h, w) = thresh.shape\n",
        "  resized = resize_img(thresh, w, h)\n",
        "  cv2_imshow(resized)\n",
        "  normalized = normalization(resized)\n",
        "  characters.append((normalized, (x, y, w, h)))"
      ],
      "metadata": {
        "id": "sH_3-z-VsjGQ"
      },
      "execution_count": 24,
      "outputs": []
    },
    {
      "cell_type": "code",
      "source": [
        "for c in conts:\n",
        "  #print(c)\n",
        "  (x, y, w, h) = cv2.boundingRect(c)\n",
        "  if (w >= min_w and w <= max_w) and (h >= min_h and h <= max_h):\n",
        "    process_box(gray, x, y, w, h)"
      ],
      "metadata": {
        "colab": {
          "base_uri": "https://localhost:8080/",
          "height": 213
        },
        "id": "86v8sTTkskQw",
        "outputId": "8e8811f1-219e-4862-ae84-d265a0a0c9c7"
      },
      "execution_count": 25,
      "outputs": [
        {
          "output_type": "display_data",
          "data": {
            "text/plain": [
              "<PIL.Image.Image image mode=L size=28x28 at 0x7FE1FD49A190>"
            ],
            "image/png": "[encoded data removed]"
          },
          "metadata": {}
        },
        {
          "output_type": "display_data",
          "data": {
            "text/plain": [
              "<PIL.Image.Image image mode=L size=28x28 at 0x7FE1FD48C890>"
            ],
            "image/png": "[encoded data removed]"
          },
          "metadata": {}
        },
        {
          "output_type": "display_data",
          "data": {
            "text/plain": [
              "<PIL.Image.Image image mode=L size=28x28 at 0x7FE1FD473650>"
            ],
            "image/png": "[encoded data removed]"
          },
          "metadata": {}
        },
        {
          "output_type": "display_data",
          "data": {
            "text/plain": [
              "<PIL.Image.Image image mode=L size=28x28 at 0x7FE1FD48AA10>"
            ],
            "image/png": "[encoded data removed]"
          },
          "metadata": {}
        },
        {
          "output_type": "display_data",
          "data": {
            "text/plain": [
              "<PIL.Image.Image image mode=L size=28x28 at 0x7FE1FD378750>"
            ],
            "image/png": "[encoded data removed]"
          },
          "metadata": {}
        },
        {
          "output_type": "display_data",
          "data": {
            "text/plain": [
              "<PIL.Image.Image image mode=L size=28x28 at 0x7FE1FD378850>"
            ],
            "image/png": "[encoded data removed]"
          },
          "metadata": {}
        },
        {
          "output_type": "display_data",
          "data": {
            "text/plain": [
              "<PIL.Image.Image image mode=L size=28x28 at 0x7FE1FD49A150>"
            ],
            "image/png": "[encoded data removed]"
          },
          "metadata": {}
        }
      ]
    },
    {
      "cell_type": "code",
      "source": [
        "characters[0]"
      ],
      "metadata": {
        "colab": {
          "base_uri": "https://localhost:8080/"
        },
        "id": "Re9QwsaasqHa",
        "outputId": "57eb40dd-43c5-4adb-bd17-b658b4243b85"
      },
      "execution_count": 26,
      "outputs": [
        {
          "output_type": "execute_result",
          "data": {
            "text/plain": [
              "(array([[[0.        ],\n",
              "         [0.        ],\n",
              "         [0.        ],\n",
              "         [0.        ],\n",
              "         [0.        ],\n",
              "         [0.        ],\n",
              "         [0.        ],\n",
              "         [0.        ],\n",
              "         [0.        ],\n",
              "         [0.        ],\n",
              "         [0.        ],\n",
              "         [0.        ],\n",
              "         [0.        ],\n",
              "         [0.        ],\n",
              "         [0.        ],\n",
              "         [0.        ],\n",
              "         [0.        ],\n",
              "         [0.        ],\n",
              "         [0.        ],\n",
              "         [0.        ],\n",
              "         [0.        ],\n",
              "         [0.        ],\n",
              "         [0.        ],\n",
              "         [0.        ],\n",
              "         [0.        ],\n",
              "         [0.        ],\n",
              "         [0.        ],\n",
              "         [0.        ]],\n",
              " \n",
              "        [[0.        ],\n",
              "         [0.        ],\n",
              "         [0.        ],\n",
              "         [0.        ],\n",
              "         [0.        ],\n",
              "         [0.        ],\n",
              "         [0.        ],\n",
              "         [0.        ],\n",
              "         [0.        ],\n",
              "         [0.        ],\n",
              "         [0.        ],\n",
              "         [0.        ],\n",
              "         [0.        ],\n",
              "         [0.9647059 ],\n",
              "         [0.        ],\n",
              "         [0.        ],\n",
              "         [0.9647059 ],\n",
              "         [0.        ],\n",
              "         [0.        ],\n",
              "         [0.        ],\n",
              "         [0.        ],\n",
              "         [0.        ],\n",
              "         [0.        ],\n",
              "         [0.        ],\n",
              "         [0.        ],\n",
              "         [0.        ],\n",
              "         [0.        ],\n",
              "         [0.        ]],\n",
              " \n",
              "        [[0.        ],\n",
              "         [0.        ],\n",
              "         [0.        ],\n",
              "         [0.        ],\n",
              "         [0.        ],\n",
              "         [0.        ],\n",
              "         [0.        ],\n",
              "         [0.        ],\n",
              "         [0.        ],\n",
              "         [0.        ],\n",
              "         [0.        ],\n",
              "         [0.9254902 ],\n",
              "         [0.9254902 ],\n",
              "         [1.        ],\n",
              "         [0.9254902 ],\n",
              "         [0.9254902 ],\n",
              "         [1.        ],\n",
              "         [0.9254902 ],\n",
              "         [0.9254902 ],\n",
              "         [0.        ],\n",
              "         [0.        ],\n",
              "         [0.        ],\n",
              "         [0.        ],\n",
              "         [0.        ],\n",
              "         [0.        ],\n",
              "         [0.        ],\n",
              "         [0.        ],\n",
              "         [0.        ]],\n",
              " \n",
              "        [[0.        ],\n",
              "         [0.        ],\n",
              "         [0.        ],\n",
              "         [0.        ],\n",
              "         [0.        ],\n",
              "         [0.        ],\n",
              "         [0.        ],\n",
              "         [0.        ],\n",
              "         [0.        ],\n",
              "         [0.8901961 ],\n",
              "         [0.8901961 ],\n",
              "         [1.        ],\n",
              "         [1.        ],\n",
              "         [1.        ],\n",
              "         [1.        ],\n",
              "         [1.        ],\n",
              "         [1.        ],\n",
              "         [1.        ],\n",
              "         [1.        ],\n",
              "         [0.8901961 ],\n",
              "         [0.8901961 ],\n",
              "         [0.        ],\n",
              "         [0.        ],\n",
              "         [0.        ],\n",
              "         [0.        ],\n",
              "         [0.        ],\n",
              "         [0.        ],\n",
              "         [0.        ]],\n",
              " \n",
              "        [[0.        ],\n",
              "         [0.        ],\n",
              "         [0.        ],\n",
              "         [0.        ],\n",
              "         [0.        ],\n",
              "         [0.        ],\n",
              "         [0.        ],\n",
              "         [0.        ],\n",
              "         [0.        ],\n",
              "         [1.        ],\n",
              "         [1.        ],\n",
              "         [1.        ],\n",
              "         [0.14901961],\n",
              "         [0.14901961],\n",
              "         [0.14901961],\n",
              "         [0.14901961],\n",
              "         [0.14901961],\n",
              "         [0.14901961],\n",
              "         [0.14901961],\n",
              "         [1.        ],\n",
              "         [1.        ],\n",
              "         [0.8509804 ],\n",
              "         [0.        ],\n",
              "         [0.        ],\n",
              "         [0.        ],\n",
              "         [0.        ],\n",
              "         [0.        ],\n",
              "         [0.        ]],\n",
              " \n",
              "        [[0.        ],\n",
              "         [0.        ],\n",
              "         [0.        ],\n",
              "         [0.        ],\n",
              "         [0.        ],\n",
              "         [0.        ],\n",
              "         [0.        ],\n",
              "         [0.        ],\n",
              "         [0.8156863 ],\n",
              "         [1.        ],\n",
              "         [1.        ],\n",
              "         [0.18431373],\n",
              "         [0.        ],\n",
              "         [0.        ],\n",
              "         [0.        ],\n",
              "         [0.        ],\n",
              "         [0.        ],\n",
              "         [0.        ],\n",
              "         [0.        ],\n",
              "         [0.18431373],\n",
              "         [0.18431373],\n",
              "         [1.        ],\n",
              "         [0.8156863 ],\n",
              "         [0.        ],\n",
              "         [0.        ],\n",
              "         [0.        ],\n",
              "         [0.        ],\n",
              "         [0.        ]],\n",
              " \n",
              "        [[0.        ],\n",
              "         [0.        ],\n",
              "         [0.        ],\n",
              "         [0.        ],\n",
              "         [0.        ],\n",
              "         [0.        ],\n",
              "         [0.        ],\n",
              "         [0.7764706 ],\n",
              "         [1.        ],\n",
              "         [1.        ],\n",
              "         [0.22352941],\n",
              "         [0.        ],\n",
              "         [0.        ],\n",
              "         [0.        ],\n",
              "         [0.        ],\n",
              "         [0.        ],\n",
              "         [0.        ],\n",
              "         [0.        ],\n",
              "         [0.        ],\n",
              "         [0.        ],\n",
              "         [0.        ],\n",
              "         [0.22352941],\n",
              "         [0.22352941],\n",
              "         [0.        ],\n",
              "         [0.        ],\n",
              "         [0.        ],\n",
              "         [0.        ],\n",
              "         [0.        ]],\n",
              " \n",
              "        [[0.        ],\n",
              "         [0.        ],\n",
              "         [0.        ],\n",
              "         [0.        ],\n",
              "         [0.        ],\n",
              "         [0.        ],\n",
              "         [0.        ],\n",
              "         [1.        ],\n",
              "         [1.        ],\n",
              "         [1.        ],\n",
              "         [0.        ],\n",
              "         [0.        ],\n",
              "         [0.        ],\n",
              "         [0.        ],\n",
              "         [0.        ],\n",
              "         [0.        ],\n",
              "         [0.        ],\n",
              "         [0.        ],\n",
              "         [0.        ],\n",
              "         [0.        ],\n",
              "         [0.        ],\n",
              "         [0.        ],\n",
              "         [0.        ],\n",
              "         [0.        ],\n",
              "         [0.        ],\n",
              "         [0.        ],\n",
              "         [0.        ],\n",
              "         [0.        ]],\n",
              " \n",
              "        [[0.        ],\n",
              "         [0.        ],\n",
              "         [0.        ],\n",
              "         [0.        ],\n",
              "         [0.        ],\n",
              "         [0.        ],\n",
              "         [0.7019608 ],\n",
              "         [1.        ],\n",
              "         [1.        ],\n",
              "         [0.29803923],\n",
              "         [0.        ],\n",
              "         [0.        ],\n",
              "         [0.        ],\n",
              "         [0.        ],\n",
              "         [0.        ],\n",
              "         [0.        ],\n",
              "         [0.        ],\n",
              "         [0.        ],\n",
              "         [0.        ],\n",
              "         [0.        ],\n",
              "         [0.        ],\n",
              "         [0.        ],\n",
              "         [0.        ],\n",
              "         [0.        ],\n",
              "         [0.        ],\n",
              "         [0.        ],\n",
              "         [0.        ],\n",
              "         [0.        ]],\n",
              " \n",
              "        [[0.        ],\n",
              "         [0.        ],\n",
              "         [0.        ],\n",
              "         [0.        ],\n",
              "         [0.        ],\n",
              "         [0.        ],\n",
              "         [1.        ],\n",
              "         [1.        ],\n",
              "         [0.33333334],\n",
              "         [0.        ],\n",
              "         [0.        ],\n",
              "         [0.        ],\n",
              "         [0.        ],\n",
              "         [0.        ],\n",
              "         [0.        ],\n",
              "         [0.        ],\n",
              "         [0.        ],\n",
              "         [0.        ],\n",
              "         [0.        ],\n",
              "         [0.        ],\n",
              "         [0.        ],\n",
              "         [0.        ],\n",
              "         [0.        ],\n",
              "         [0.        ],\n",
              "         [0.        ],\n",
              "         [0.        ],\n",
              "         [0.        ],\n",
              "         [0.        ]],\n",
              " \n",
              "        [[0.        ],\n",
              "         [0.        ],\n",
              "         [0.        ],\n",
              "         [0.        ],\n",
              "         [0.        ],\n",
              "         [0.        ],\n",
              "         [1.        ],\n",
              "         [1.        ],\n",
              "         [0.        ],\n",
              "         [0.        ],\n",
              "         [0.        ],\n",
              "         [0.        ],\n",
              "         [0.        ],\n",
              "         [0.        ],\n",
              "         [0.        ],\n",
              "         [0.        ],\n",
              "         [0.        ],\n",
              "         [0.        ],\n",
              "         [0.        ],\n",
              "         [0.        ],\n",
              "         [0.        ],\n",
              "         [0.        ],\n",
              "         [0.        ],\n",
              "         [0.        ],\n",
              "         [0.        ],\n",
              "         [0.        ],\n",
              "         [0.        ],\n",
              "         [0.        ]],\n",
              " \n",
              "        [[0.        ],\n",
              "         [0.        ],\n",
              "         [0.        ],\n",
              "         [0.        ],\n",
              "         [0.        ],\n",
              "         [0.        ],\n",
              "         [1.        ],\n",
              "         [1.        ],\n",
              "         [0.        ],\n",
              "         [0.        ],\n",
              "         [0.        ],\n",
              "         [0.        ],\n",
              "         [0.        ],\n",
              "         [0.        ],\n",
              "         [0.        ],\n",
              "         [0.        ],\n",
              "         [0.        ],\n",
              "         [0.        ],\n",
              "         [0.        ],\n",
              "         [0.        ],\n",
              "         [0.        ],\n",
              "         [0.        ],\n",
              "         [0.        ],\n",
              "         [0.        ],\n",
              "         [0.        ],\n",
              "         [0.        ],\n",
              "         [0.        ],\n",
              "         [0.        ]],\n",
              " \n",
              "        [[0.        ],\n",
              "         [0.        ],\n",
              "         [0.        ],\n",
              "         [0.        ],\n",
              "         [0.        ],\n",
              "         [0.5568628 ],\n",
              "         [1.        ],\n",
              "         [1.        ],\n",
              "         [0.        ],\n",
              "         [0.        ],\n",
              "         [0.        ],\n",
              "         [0.        ],\n",
              "         [0.        ],\n",
              "         [0.        ],\n",
              "         [0.        ],\n",
              "         [0.        ],\n",
              "         [0.        ],\n",
              "         [0.        ],\n",
              "         [0.        ],\n",
              "         [0.        ],\n",
              "         [0.        ],\n",
              "         [0.        ],\n",
              "         [0.        ],\n",
              "         [0.        ],\n",
              "         [0.        ],\n",
              "         [0.        ],\n",
              "         [0.        ],\n",
              "         [0.        ]],\n",
              " \n",
              "        [[0.        ],\n",
              "         [0.        ],\n",
              "         [0.        ],\n",
              "         [0.        ],\n",
              "         [0.        ],\n",
              "         [1.        ],\n",
              "         [1.        ],\n",
              "         [1.        ],\n",
              "         [0.        ],\n",
              "         [0.        ],\n",
              "         [0.        ],\n",
              "         [0.        ],\n",
              "         [0.        ],\n",
              "         [0.        ],\n",
              "         [0.        ],\n",
              "         [0.        ],\n",
              "         [0.        ],\n",
              "         [0.        ],\n",
              "         [0.        ],\n",
              "         [0.        ],\n",
              "         [0.        ],\n",
              "         [0.        ],\n",
              "         [0.        ],\n",
              "         [0.        ],\n",
              "         [0.        ],\n",
              "         [0.        ],\n",
              "         [0.        ],\n",
              "         [0.        ]],\n",
              " \n",
              "        [[0.        ],\n",
              "         [0.        ],\n",
              "         [0.        ],\n",
              "         [0.        ],\n",
              "         [0.        ],\n",
              "         [1.        ],\n",
              "         [1.        ],\n",
              "         [1.        ],\n",
              "         [0.        ],\n",
              "         [0.        ],\n",
              "         [0.        ],\n",
              "         [0.        ],\n",
              "         [0.        ],\n",
              "         [0.        ],\n",
              "         [0.        ],\n",
              "         [0.        ],\n",
              "         [0.        ],\n",
              "         [0.        ],\n",
              "         [0.        ],\n",
              "         [0.        ],\n",
              "         [0.        ],\n",
              "         [0.        ],\n",
              "         [0.        ],\n",
              "         [0.        ],\n",
              "         [0.        ],\n",
              "         [0.        ],\n",
              "         [0.        ],\n",
              "         [0.        ]],\n",
              " \n",
              "        [[0.        ],\n",
              "         [0.        ],\n",
              "         [0.        ],\n",
              "         [0.        ],\n",
              "         [0.        ],\n",
              "         [1.        ],\n",
              "         [1.        ],\n",
              "         [1.        ],\n",
              "         [0.        ],\n",
              "         [0.        ],\n",
              "         [0.        ],\n",
              "         [0.        ],\n",
              "         [0.        ],\n",
              "         [0.        ],\n",
              "         [0.        ],\n",
              "         [0.        ],\n",
              "         [0.        ],\n",
              "         [0.        ],\n",
              "         [0.        ],\n",
              "         [0.        ],\n",
              "         [0.        ],\n",
              "         [0.        ],\n",
              "         [0.        ],\n",
              "         [0.        ],\n",
              "         [0.        ],\n",
              "         [0.        ],\n",
              "         [0.        ],\n",
              "         [0.        ]],\n",
              " \n",
              "        [[0.        ],\n",
              "         [0.        ],\n",
              "         [0.        ],\n",
              "         [0.        ],\n",
              "         [0.        ],\n",
              "         [0.5921569 ],\n",
              "         [1.        ],\n",
              "         [1.        ],\n",
              "         [0.        ],\n",
              "         [0.        ],\n",
              "         [0.        ],\n",
              "         [0.        ],\n",
              "         [0.        ],\n",
              "         [0.        ],\n",
              "         [0.        ],\n",
              "         [0.        ],\n",
              "         [0.        ],\n",
              "         [0.        ],\n",
              "         [0.        ],\n",
              "         [0.        ],\n",
              "         [0.        ],\n",
              "         [0.        ],\n",
              "         [0.        ],\n",
              "         [0.        ],\n",
              "         [0.        ],\n",
              "         [0.        ],\n",
              "         [0.        ],\n",
              "         [0.        ]],\n",
              " \n",
              "        [[0.        ],\n",
              "         [0.        ],\n",
              "         [0.        ],\n",
              "         [0.        ],\n",
              "         [0.        ],\n",
              "         [0.        ],\n",
              "         [1.        ],\n",
              "         [1.        ],\n",
              "         [0.        ],\n",
              "         [0.        ],\n",
              "         [0.        ],\n",
              "         [0.        ],\n",
              "         [0.        ],\n",
              "         [0.        ],\n",
              "         [0.        ],\n",
              "         [0.        ],\n",
              "         [0.        ],\n",
              "         [0.        ],\n",
              "         [0.        ],\n",
              "         [0.        ],\n",
              "         [0.        ],\n",
              "         [0.        ],\n",
              "         [0.        ],\n",
              "         [0.        ],\n",
              "         [0.        ],\n",
              "         [0.        ],\n",
              "         [0.        ],\n",
              "         [0.        ]],\n",
              " \n",
              "        [[0.        ],\n",
              "         [0.        ],\n",
              "         [0.        ],\n",
              "         [0.        ],\n",
              "         [0.        ],\n",
              "         [0.        ],\n",
              "         [1.        ],\n",
              "         [1.        ],\n",
              "         [0.33333334],\n",
              "         [0.        ],\n",
              "         [0.        ],\n",
              "         [0.        ],\n",
              "         [0.        ],\n",
              "         [0.        ],\n",
              "         [0.        ],\n",
              "         [0.        ],\n",
              "         [0.        ],\n",
              "         [0.        ],\n",
              "         [0.        ],\n",
              "         [0.        ],\n",
              "         [0.        ],\n",
              "         [0.        ],\n",
              "         [0.        ],\n",
              "         [0.        ],\n",
              "         [0.        ],\n",
              "         [0.        ],\n",
              "         [0.        ],\n",
              "         [0.        ]],\n",
              " \n",
              "        [[0.        ],\n",
              "         [0.        ],\n",
              "         [0.        ],\n",
              "         [0.        ],\n",
              "         [0.        ],\n",
              "         [0.        ],\n",
              "         [0.7019608 ],\n",
              "         [1.        ],\n",
              "         [1.        ],\n",
              "         [0.29803923],\n",
              "         [0.        ],\n",
              "         [0.        ],\n",
              "         [0.        ],\n",
              "         [0.        ],\n",
              "         [0.        ],\n",
              "         [0.        ],\n",
              "         [0.        ],\n",
              "         [0.        ],\n",
              "         [0.        ],\n",
              "         [0.        ],\n",
              "         [0.        ],\n",
              "         [0.        ],\n",
              "         [0.        ],\n",
              "         [0.        ],\n",
              "         [0.        ],\n",
              "         [0.        ],\n",
              "         [0.        ],\n",
              "         [0.        ]],\n",
              " \n",
              "        [[0.        ],\n",
              "         [0.        ],\n",
              "         [0.        ],\n",
              "         [0.        ],\n",
              "         [0.        ],\n",
              "         [0.        ],\n",
              "         [0.        ],\n",
              "         [0.7411765 ],\n",
              "         [1.        ],\n",
              "         [1.        ],\n",
              "         [0.25882354],\n",
              "         [0.        ],\n",
              "         [0.        ],\n",
              "         [0.        ],\n",
              "         [0.        ],\n",
              "         [0.        ],\n",
              "         [0.        ],\n",
              "         [0.        ],\n",
              "         [0.        ],\n",
              "         [0.        ],\n",
              "         [0.        ],\n",
              "         [0.        ],\n",
              "         [0.        ],\n",
              "         [0.        ],\n",
              "         [0.        ],\n",
              "         [0.        ],\n",
              "         [0.        ],\n",
              "         [0.        ]],\n",
              " \n",
              "        [[0.        ],\n",
              "         [0.        ],\n",
              "         [0.        ],\n",
              "         [0.        ],\n",
              "         [0.        ],\n",
              "         [0.        ],\n",
              "         [0.        ],\n",
              "         [0.        ],\n",
              "         [0.7764706 ],\n",
              "         [1.        ],\n",
              "         [1.        ],\n",
              "         [0.22352941],\n",
              "         [0.        ],\n",
              "         [0.        ],\n",
              "         [0.        ],\n",
              "         [0.        ],\n",
              "         [0.        ],\n",
              "         [0.        ],\n",
              "         [0.        ],\n",
              "         [0.        ],\n",
              "         [0.        ],\n",
              "         [0.        ],\n",
              "         [0.        ],\n",
              "         [0.        ],\n",
              "         [0.        ],\n",
              "         [0.        ],\n",
              "         [0.        ],\n",
              "         [0.        ]],\n",
              " \n",
              "        [[0.        ],\n",
              "         [0.        ],\n",
              "         [0.        ],\n",
              "         [0.        ],\n",
              "         [0.        ],\n",
              "         [0.        ],\n",
              "         [0.        ],\n",
              "         [0.        ],\n",
              "         [0.        ],\n",
              "         [0.8156863 ],\n",
              "         [1.        ],\n",
              "         [1.        ],\n",
              "         [0.18431373],\n",
              "         [0.18431373],\n",
              "         [0.        ],\n",
              "         [0.        ],\n",
              "         [0.        ],\n",
              "         [0.        ],\n",
              "         [0.        ],\n",
              "         [0.        ],\n",
              "         [0.        ],\n",
              "         [0.        ],\n",
              "         [0.        ],\n",
              "         [0.        ],\n",
              "         [0.        ],\n",
              "         [0.        ],\n",
              "         [0.        ],\n",
              "         [0.        ]],\n",
              " \n",
              "        [[0.        ],\n",
              "         [0.        ],\n",
              "         [0.        ],\n",
              "         [0.        ],\n",
              "         [0.        ],\n",
              "         [0.        ],\n",
              "         [0.        ],\n",
              "         [0.        ],\n",
              "         [0.        ],\n",
              "         [0.        ],\n",
              "         [0.8509804 ],\n",
              "         [0.8509804 ],\n",
              "         [1.        ],\n",
              "         [1.        ],\n",
              "         [0.14901961],\n",
              "         [0.14901961],\n",
              "         [0.14901961],\n",
              "         [0.        ],\n",
              "         [0.        ],\n",
              "         [0.        ],\n",
              "         [0.        ],\n",
              "         [0.        ],\n",
              "         [0.        ],\n",
              "         [0.        ],\n",
              "         [0.        ],\n",
              "         [0.        ],\n",
              "         [0.        ],\n",
              "         [0.        ]],\n",
              " \n",
              "        [[0.        ],\n",
              "         [0.        ],\n",
              "         [0.        ],\n",
              "         [0.        ],\n",
              "         [0.        ],\n",
              "         [0.        ],\n",
              "         [0.        ],\n",
              "         [0.        ],\n",
              "         [0.        ],\n",
              "         [0.        ],\n",
              "         [0.        ],\n",
              "         [0.        ],\n",
              "         [0.8901961 ],\n",
              "         [0.8901961 ],\n",
              "         [0.8901961 ],\n",
              "         [1.        ],\n",
              "         [1.        ],\n",
              "         [0.10980392],\n",
              "         [0.10980392],\n",
              "         [0.10980392],\n",
              "         [0.10980392],\n",
              "         [0.10980392],\n",
              "         [0.        ],\n",
              "         [0.        ],\n",
              "         [0.        ],\n",
              "         [0.        ],\n",
              "         [0.        ],\n",
              "         [0.        ]],\n",
              " \n",
              "        [[0.        ],\n",
              "         [0.        ],\n",
              "         [0.        ],\n",
              "         [0.        ],\n",
              "         [0.        ],\n",
              "         [0.        ],\n",
              "         [0.        ],\n",
              "         [0.        ],\n",
              "         [0.        ],\n",
              "         [0.        ],\n",
              "         [0.        ],\n",
              "         [0.        ],\n",
              "         [0.        ],\n",
              "         [0.        ],\n",
              "         [0.        ],\n",
              "         [0.9254902 ],\n",
              "         [0.9254902 ],\n",
              "         [0.9254902 ],\n",
              "         [0.9254902 ],\n",
              "         [0.9254902 ],\n",
              "         [0.9254902 ],\n",
              "         [0.9254902 ],\n",
              "         [0.        ],\n",
              "         [0.        ],\n",
              "         [0.        ],\n",
              "         [0.        ],\n",
              "         [0.        ],\n",
              "         [0.        ]],\n",
              " \n",
              "        [[0.        ],\n",
              "         [0.        ],\n",
              "         [0.        ],\n",
              "         [0.        ],\n",
              "         [0.        ],\n",
              "         [0.        ],\n",
              "         [0.        ],\n",
              "         [0.        ],\n",
              "         [0.        ],\n",
              "         [0.        ],\n",
              "         [0.        ],\n",
              "         [0.        ],\n",
              "         [0.        ],\n",
              "         [0.        ],\n",
              "         [0.        ],\n",
              "         [0.        ],\n",
              "         [0.        ],\n",
              "         [0.        ],\n",
              "         [0.        ],\n",
              "         [0.        ],\n",
              "         [0.        ],\n",
              "         [0.        ],\n",
              "         [0.        ],\n",
              "         [0.        ],\n",
              "         [0.        ],\n",
              "         [0.        ],\n",
              "         [0.        ],\n",
              "         [0.        ]],\n",
              " \n",
              "        [[0.        ],\n",
              "         [0.        ],\n",
              "         [0.        ],\n",
              "         [0.        ],\n",
              "         [0.        ],\n",
              "         [0.        ],\n",
              "         [0.        ],\n",
              "         [0.        ],\n",
              "         [0.        ],\n",
              "         [0.        ],\n",
              "         [0.        ],\n",
              "         [0.        ],\n",
              "         [0.        ],\n",
              "         [0.        ],\n",
              "         [0.        ],\n",
              "         [0.        ],\n",
              "         [0.        ],\n",
              "         [0.        ],\n",
              "         [0.        ],\n",
              "         [0.        ],\n",
              "         [0.        ],\n",
              "         [0.        ],\n",
              "         [0.        ],\n",
              "         [0.        ],\n",
              "         [0.        ],\n",
              "         [0.        ],\n",
              "         [0.        ],\n",
              "         [0.        ]]], dtype=float32), (3, 9, 20, 27))"
            ]
          },
          "metadata": {},
          "execution_count": 26
        }
      ]
    },
    {
      "cell_type": "code",
      "source": [
        "boxes = [box[1] for box in characters]\n",
        "boxes"
      ],
      "metadata": {
        "colab": {
          "base_uri": "https://localhost:8080/"
        },
        "id": "Xk5ImSJjsvqn",
        "outputId": "8cbdc185-6921-4ac1-864b-31b2c0107bc9"
      },
      "execution_count": 27,
      "outputs": [
        {
          "output_type": "execute_result",
          "data": {
            "text/plain": [
              "[(3, 9, 20, 27),\n",
              " (23, 17, 11, 16),\n",
              " (37, 5, 12, 29),\n",
              " (49, 6, 23, 26),\n",
              " (74, 19, 9, 14),\n",
              " (86, 7, 21, 27),\n",
              " (108, 18, 43, 19)]"
            ]
          },
          "metadata": {},
          "execution_count": 27
        }
      ]
    },
    {
      "cell_type": "code",
      "source": [
        "pixels = np.array([pixel[0] for pixel in characters], dtype = 'float32')"
      ],
      "metadata": {
        "id": "128P6Xg_sxKI"
      },
      "execution_count": 28,
      "outputs": []
    },
    {
      "cell_type": "code",
      "source": [
        "pixels"
      ],
      "metadata": {
        "colab": {
          "base_uri": "https://localhost:8080/"
        },
        "id": "jsZRTnjJszgs",
        "outputId": "fad601f8-e178-4f9a-aab5-abdb4df27bea"
      },
      "execution_count": 29,
      "outputs": [
        {
          "output_type": "execute_result",
          "data": {
            "text/plain": [
              "array([[[[0.],\n",
              "         [0.],\n",
              "         [0.],\n",
              "         ...,\n",
              "         [0.],\n",
              "         [0.],\n",
              "         [0.]],\n",
              "\n",
              "        [[0.],\n",
              "         [0.],\n",
              "         [0.],\n",
              "         ...,\n",
              "         [0.],\n",
              "         [0.],\n",
              "         [0.]],\n",
              "\n",
              "        [[0.],\n",
              "         [0.],\n",
              "         [0.],\n",
              "         ...,\n",
              "         [0.],\n",
              "         [0.],\n",
              "         [0.]],\n",
              "\n",
              "        ...,\n",
              "\n",
              "        [[0.],\n",
              "         [0.],\n",
              "         [0.],\n",
              "         ...,\n",
              "         [0.],\n",
              "         [0.],\n",
              "         [0.]],\n",
              "\n",
              "        [[0.],\n",
              "         [0.],\n",
              "         [0.],\n",
              "         ...,\n",
              "         [0.],\n",
              "         [0.],\n",
              "         [0.]],\n",
              "\n",
              "        [[0.],\n",
              "         [0.],\n",
              "         [0.],\n",
              "         ...,\n",
              "         [0.],\n",
              "         [0.],\n",
              "         [0.]]],\n",
              "\n",
              "\n",
              "       [[[0.],\n",
              "         [0.],\n",
              "         [0.],\n",
              "         ...,\n",
              "         [0.],\n",
              "         [0.],\n",
              "         [0.]],\n",
              "\n",
              "        [[0.],\n",
              "         [0.],\n",
              "         [0.],\n",
              "         ...,\n",
              "         [0.],\n",
              "         [0.],\n",
              "         [0.]],\n",
              "\n",
              "        [[0.],\n",
              "         [0.],\n",
              "         [0.],\n",
              "         ...,\n",
              "         [0.],\n",
              "         [0.],\n",
              "         [0.]],\n",
              "\n",
              "        ...,\n",
              "\n",
              "        [[0.],\n",
              "         [0.],\n",
              "         [0.],\n",
              "         ...,\n",
              "         [0.],\n",
              "         [0.],\n",
              "         [0.]],\n",
              "\n",
              "        [[0.],\n",
              "         [0.],\n",
              "         [0.],\n",
              "         ...,\n",
              "         [0.],\n",
              "         [0.],\n",
              "         [0.]],\n",
              "\n",
              "        [[0.],\n",
              "         [0.],\n",
              "         [0.],\n",
              "         ...,\n",
              "         [0.],\n",
              "         [0.],\n",
              "         [0.]]],\n",
              "\n",
              "\n",
              "       [[[0.],\n",
              "         [0.],\n",
              "         [0.],\n",
              "         ...,\n",
              "         [0.],\n",
              "         [0.],\n",
              "         [0.]],\n",
              "\n",
              "        [[0.],\n",
              "         [0.],\n",
              "         [0.],\n",
              "         ...,\n",
              "         [0.],\n",
              "         [0.],\n",
              "         [0.]],\n",
              "\n",
              "        [[0.],\n",
              "         [0.],\n",
              "         [0.],\n",
              "         ...,\n",
              "         [0.],\n",
              "         [0.],\n",
              "         [0.]],\n",
              "\n",
              "        ...,\n",
              "\n",
              "        [[0.],\n",
              "         [0.],\n",
              "         [0.],\n",
              "         ...,\n",
              "         [0.],\n",
              "         [0.],\n",
              "         [0.]],\n",
              "\n",
              "        [[0.],\n",
              "         [0.],\n",
              "         [0.],\n",
              "         ...,\n",
              "         [0.],\n",
              "         [0.],\n",
              "         [0.]],\n",
              "\n",
              "        [[0.],\n",
              "         [0.],\n",
              "         [0.],\n",
              "         ...,\n",
              "         [0.],\n",
              "         [0.],\n",
              "         [0.]]],\n",
              "\n",
              "\n",
              "       ...,\n",
              "\n",
              "\n",
              "       [[[0.],\n",
              "         [0.],\n",
              "         [0.],\n",
              "         ...,\n",
              "         [0.],\n",
              "         [0.],\n",
              "         [0.]],\n",
              "\n",
              "        [[0.],\n",
              "         [0.],\n",
              "         [0.],\n",
              "         ...,\n",
              "         [0.],\n",
              "         [0.],\n",
              "         [0.]],\n",
              "\n",
              "        [[0.],\n",
              "         [0.],\n",
              "         [0.],\n",
              "         ...,\n",
              "         [0.],\n",
              "         [0.],\n",
              "         [0.]],\n",
              "\n",
              "        ...,\n",
              "\n",
              "        [[0.],\n",
              "         [0.],\n",
              "         [0.],\n",
              "         ...,\n",
              "         [0.],\n",
              "         [0.],\n",
              "         [0.]],\n",
              "\n",
              "        [[0.],\n",
              "         [0.],\n",
              "         [0.],\n",
              "         ...,\n",
              "         [0.],\n",
              "         [0.],\n",
              "         [0.]],\n",
              "\n",
              "        [[0.],\n",
              "         [0.],\n",
              "         [0.],\n",
              "         ...,\n",
              "         [0.],\n",
              "         [0.],\n",
              "         [0.]]],\n",
              "\n",
              "\n",
              "       [[[0.],\n",
              "         [0.],\n",
              "         [0.],\n",
              "         ...,\n",
              "         [0.],\n",
              "         [0.],\n",
              "         [0.]],\n",
              "\n",
              "        [[0.],\n",
              "         [0.],\n",
              "         [0.],\n",
              "         ...,\n",
              "         [0.],\n",
              "         [0.],\n",
              "         [0.]],\n",
              "\n",
              "        [[0.],\n",
              "         [0.],\n",
              "         [0.],\n",
              "         ...,\n",
              "         [0.],\n",
              "         [0.],\n",
              "         [0.]],\n",
              "\n",
              "        ...,\n",
              "\n",
              "        [[0.],\n",
              "         [0.],\n",
              "         [0.],\n",
              "         ...,\n",
              "         [0.],\n",
              "         [0.],\n",
              "         [0.]],\n",
              "\n",
              "        [[0.],\n",
              "         [0.],\n",
              "         [0.],\n",
              "         ...,\n",
              "         [0.],\n",
              "         [0.],\n",
              "         [0.]],\n",
              "\n",
              "        [[0.],\n",
              "         [0.],\n",
              "         [0.],\n",
              "         ...,\n",
              "         [0.],\n",
              "         [0.],\n",
              "         [0.]]],\n",
              "\n",
              "\n",
              "       [[[0.],\n",
              "         [0.],\n",
              "         [0.],\n",
              "         ...,\n",
              "         [0.],\n",
              "         [0.],\n",
              "         [0.]],\n",
              "\n",
              "        [[0.],\n",
              "         [0.],\n",
              "         [0.],\n",
              "         ...,\n",
              "         [0.],\n",
              "         [0.],\n",
              "         [0.]],\n",
              "\n",
              "        [[0.],\n",
              "         [0.],\n",
              "         [0.],\n",
              "         ...,\n",
              "         [0.],\n",
              "         [0.],\n",
              "         [0.]],\n",
              "\n",
              "        ...,\n",
              "\n",
              "        [[0.],\n",
              "         [0.],\n",
              "         [0.],\n",
              "         ...,\n",
              "         [0.],\n",
              "         [0.],\n",
              "         [0.]],\n",
              "\n",
              "        [[0.],\n",
              "         [0.],\n",
              "         [0.],\n",
              "         ...,\n",
              "         [0.],\n",
              "         [0.],\n",
              "         [0.]],\n",
              "\n",
              "        [[0.],\n",
              "         [0.],\n",
              "         [0.],\n",
              "         ...,\n",
              "         [0.],\n",
              "         [0.],\n",
              "         [0.]]]], dtype=float32)"
            ]
          },
          "metadata": {},
          "execution_count": 29
        }
      ]
    },
    {
      "cell_type": "code",
      "source": [
        "letters = 'ABCDEFGHIJKLMNOPQRSTUVWXYZ'\n",
        "characters_list=letters\n",
        "characters_list = [l for l in characters_list]"
      ],
      "metadata": {
        "id": "UGD0e9a9s1eD"
      },
      "execution_count": 30,
      "outputs": []
    },
    {
      "cell_type": "code",
      "source": [
        "print(characters_list)"
      ],
      "metadata": {
        "colab": {
          "base_uri": "https://localhost:8080/"
        },
        "id": "e8Y1JnmLtELb",
        "outputId": "6d3fb8f5-775f-441a-b8f6-b70be4f6a2a6"
      },
      "execution_count": 31,
      "outputs": [
        {
          "output_type": "stream",
          "name": "stdout",
          "text": [
            "['A', 'B', 'C', 'D', 'E', 'F', 'G', 'H', 'I', 'J', 'K', 'L', 'M', 'N', 'O', 'P', 'Q', 'R', 'S', 'T', 'U', 'V', 'W', 'X', 'Y', 'Z']\n"
          ]
        }
      ]
    },
    {
      "cell_type": "code",
      "source": [
        "pixels[0].shape"
      ],
      "metadata": {
        "colab": {
          "base_uri": "https://localhost:8080/"
        },
        "id": "AWvbK9-1tGqo",
        "outputId": "1c31bd62-8c4a-45d9-ebe2-f49079d188c2"
      },
      "execution_count": 32,
      "outputs": [
        {
          "output_type": "execute_result",
          "data": {
            "text/plain": [
              "(28, 28, 1)"
            ]
          },
          "metadata": {},
          "execution_count": 32
        }
      ]
    },
    {
      "cell_type": "code",
      "source": [
        "pixels.shape"
      ],
      "metadata": {
        "colab": {
          "base_uri": "https://localhost:8080/"
        },
        "id": "tKZxSJJdtL8r",
        "outputId": "f2accb0c-d139-480e-bfc8-f0983eda5cf0"
      },
      "execution_count": 33,
      "outputs": [
        {
          "output_type": "execute_result",
          "data": {
            "text/plain": [
              "(7, 28, 28, 1)"
            ]
          },
          "metadata": {},
          "execution_count": 33
        }
      ]
    },
    {
      "cell_type": "code",
      "source": [
        "predictions = model.predict(pixels)"
      ],
      "metadata": {
        "id": "mrLfS8YhtN2W"
      },
      "execution_count": 34,
      "outputs": []
    },
    {
      "cell_type": "code",
      "source": [
        "predictions"
      ],
      "metadata": {
        "colab": {
          "base_uri": "https://localhost:8080/"
        },
        "id": "lspVmoNltaED",
        "outputId": "6fd99766-7167-41ad-c4a4-b8947877be63"
      },
      "execution_count": 35,
      "outputs": [
        {
          "output_type": "execute_result",
          "data": {
            "text/plain": [
              "array([[7.71929482e-12, 1.79219528e-09, 9.99492168e-01, 5.76950843e-09,\n",
              "        8.74263969e-06, 2.61092136e-05, 2.64905484e-05, 2.93634041e-13,\n",
              "        3.31630218e-07, 2.70076894e-09, 1.00497164e-06, 2.40667840e-04,\n",
              "        3.05697064e-13, 1.55510360e-09, 1.43090838e-05, 3.72447282e-08,\n",
              "        1.11399723e-09, 3.37347700e-07, 1.89390819e-04, 4.77060439e-07,\n",
              "        2.00811048e-08, 1.16963531e-11, 6.61439490e-13, 3.82855813e-12,\n",
              "        1.28909838e-09, 7.60767560e-10],\n",
              "       [2.45610681e-06, 3.36041045e-03, 9.46900909e-05, 4.98335908e-07,\n",
              "        1.67537626e-04, 4.58964166e-07, 9.75644171e-01, 1.04615383e-09,\n",
              "        2.89386115e-09, 1.71310163e-07, 3.04667128e-06, 1.28765549e-07,\n",
              "        4.02170346e-11, 8.46055048e-09, 1.28830655e-03, 8.32746821e-07,\n",
              "        1.83905680e-02, 5.23099652e-06, 1.04150455e-03, 1.09498934e-08,\n",
              "        2.85217272e-08, 1.29209514e-14, 1.49855750e-09, 9.12463681e-12,\n",
              "        5.39794343e-09, 1.10309761e-08],\n",
              "       [1.48542909e-04, 1.45199351e-06, 1.97439408e-03, 5.40519075e-04,\n",
              "        5.31781143e-06, 2.89706350e-05, 1.68509403e-04, 1.30015935e-04,\n",
              "        7.67858187e-03, 3.05322073e-02, 4.78582311e-04, 8.16466212e-01,\n",
              "        1.52177483e-06, 3.55104636e-03, 9.13676457e-04, 1.39299827e-02,\n",
              "        3.42081294e-05, 1.20297209e-05, 1.30973384e-03, 3.48717608e-02,\n",
              "        1.54090021e-03, 1.79186696e-04, 2.36329033e-05, 6.08810037e-02,\n",
              "        2.45121140e-02, 8.60961518e-05],\n",
              "       [2.15191627e-04, 7.19359887e-05, 4.11812507e-05, 2.67073192e-05,\n",
              "        5.63821988e-04, 1.36871608e-06, 5.67969121e-03, 1.63940322e-02,\n",
              "        3.53364604e-09, 3.37992425e-08, 4.58257049e-01, 4.98163491e-01,\n",
              "        3.23818810e-03, 6.66209322e-04, 1.06120717e-06, 1.19948027e-06,\n",
              "        1.59706576e-06, 1.44827151e-04, 7.64852120e-06, 2.39619521e-06,\n",
              "        1.01801204e-02, 2.09624247e-08, 5.51996473e-03, 8.08613375e-04,\n",
              "        5.71144710e-06, 7.96896529e-06],\n",
              "       [7.99555201e-05, 3.77293472e-04, 6.44366839e-04, 8.00749462e-04,\n",
              "        6.35277729e-06, 1.43386183e-06, 1.01055804e-04, 1.09385198e-03,\n",
              "        8.87374673e-03, 6.25297427e-04, 1.15823990e-03, 4.13480133e-01,\n",
              "        2.41307447e-07, 2.46257114e-04, 4.10776411e-04, 2.03066040e-03,\n",
              "        2.43498856e-04, 4.45749029e-04, 1.19458186e-04, 3.80088552e-03,\n",
              "        4.90103513e-02, 1.61339158e-05, 3.84264058e-06, 4.33108002e-01,\n",
              "        3.60054821e-02, 4.73161973e-02],\n",
              "       [1.48820895e-04, 2.74174017e-09, 5.22599566e-06, 1.60059717e-04,\n",
              "        3.15016513e-10, 3.09275938e-11, 1.18050468e-06, 3.32637224e-04,\n",
              "        2.05293006e-07, 9.90284741e-01, 3.44017565e-07, 4.28129460e-05,\n",
              "        5.36045697e-08, 7.70377368e-03, 3.19207174e-04, 5.17368426e-06,\n",
              "        1.29323553e-05, 6.35793107e-09, 6.27500922e-05, 9.20263119e-05,\n",
              "        1.61566059e-04, 2.50565313e-06, 7.70291717e-06, 4.27681807e-05,\n",
              "        6.13299606e-04, 1.86791866e-07],\n",
              "       [2.82848163e-08, 1.13123555e-08, 5.01366060e-07, 1.06730351e-06,\n",
              "        4.20310980e-10, 3.32709988e-12, 1.19622698e-07, 1.44420846e-05,\n",
              "        1.05521397e-12, 8.75040257e-07, 3.27674513e-07, 2.26786323e-09,\n",
              "        6.80115148e-02, 4.37211944e-03, 1.49746950e-06, 2.58795410e-07,\n",
              "        5.11993846e-07, 4.74337668e-07, 3.64612447e-07, 3.20626498e-07,\n",
              "        3.78485827e-04, 3.35027698e-06, 9.27212656e-01, 2.81030523e-08,\n",
              "        8.71201678e-07, 1.02867403e-09]], dtype=float32)"
            ]
          },
          "metadata": {},
          "execution_count": 35
        }
      ]
    },
    {
      "cell_type": "code",
      "source": [
        "predictions.shape"
      ],
      "metadata": {
        "colab": {
          "base_uri": "https://localhost:8080/"
        },
        "id": "9pE_xwIbtcJ6",
        "outputId": "6a872853-cc2d-4878-bef0-08b58f501ddf"
      },
      "execution_count": 36,
      "outputs": [
        {
          "output_type": "execute_result",
          "data": {
            "text/plain": [
              "(7, 26)"
            ]
          },
          "metadata": {},
          "execution_count": 36
        }
      ]
    },
    {
      "cell_type": "code",
      "source": [
        "boxes"
      ],
      "metadata": {
        "colab": {
          "base_uri": "https://localhost:8080/"
        },
        "id": "SV5_aDZStfrB",
        "outputId": "45c2bcb4-e2ea-4096-91c7-0180a36f8be8"
      },
      "execution_count": 37,
      "outputs": [
        {
          "output_type": "execute_result",
          "data": {
            "text/plain": [
              "[(3, 9, 20, 27),\n",
              " (23, 17, 11, 16),\n",
              " (37, 5, 12, 29),\n",
              " (49, 6, 23, 26),\n",
              " (74, 19, 9, 14),\n",
              " (86, 7, 21, 27),\n",
              " (108, 18, 43, 19)]"
            ]
          },
          "metadata": {},
          "execution_count": 37
        }
      ]
    },
    {
      "cell_type": "code",
      "source": [
        "img_copy = img.copy()\n",
        "for (prediction, (x, y, w, h)) in zip(predictions, boxes):\n",
        "  i = np.argmax(prediction)\n",
        "  #print(i)\n",
        "  probability = prediction[i]\n",
        "  #print(probability)\n",
        "  character = characters_list[i]\n",
        "  #print(character)\n",
        "\n",
        "  cv2.rectangle(img_copy, (x, y), (x + w, y + h), (255,100,0), 2)\n",
        "  cv2.putText(img_copy, character, (x - 10, y - 10), cv2.FONT_HERSHEY_SIMPLEX, 1.1, (0,0,255), 2)\n",
        "  print(character, ' -> ', probability * 100)\n",
        "\n",
        "  cv2_imshow(img_copy)"
      ],
      "metadata": {
        "colab": {
          "base_uri": "https://localhost:8080/",
          "height": 426
        },
        "id": "u_v9jNN1tk01",
        "outputId": "77d04a78-3562-4c80-d69c-443a8c222f79"
      },
      "execution_count": 38,
      "outputs": [
        {
          "output_type": "stream",
          "name": "stdout",
          "text": [
            "C  ->  99.94921684265137\n"
          ]
        },
        {
          "output_type": "display_data",
          "data": {
            "text/plain": [
              "<PIL.Image.Image image mode=RGB size=154x41 at 0x7FE1FB25D550>"
            ],
            "image/png": "[encoded data removed]"
          },
          "metadata": {}
        },
        {
          "output_type": "stream",
          "name": "stdout",
          "text": [
            "G  ->  97.56441712379456\n"
          ]
        },
        {
          "output_type": "display_data",
          "data": {
            "text/plain": [
              "<PIL.Image.Image image mode=RGB size=154x41 at 0x7FE1FB25D190>"
            ],
            "image/png": "[encoded data removed]"
          },
          "metadata": {}
        },
        {
          "output_type": "stream",
          "name": "stdout",
          "text": [
            "L  ->  81.6466212272644\n"
          ]
        },
        {
          "output_type": "display_data",
          "data": {
            "text/plain": [
              "<PIL.Image.Image image mode=RGB size=154x41 at 0x7FE1FB25D4D0>"
            ],
            "image/png": "[encoded data removed]"
          },
          "metadata": {}
        },
        {
          "output_type": "stream",
          "name": "stdout",
          "text": [
            "L  ->  49.816349148750305\n"
          ]
        },
        {
          "output_type": "display_data",
          "data": {
            "text/plain": [
              "<PIL.Image.Image image mode=RGB size=154x41 at 0x7FE1FB25D190>"
            ],
            "image/png": "[encoded data removed]"
          },
          "metadata": {}
        },
        {
          "output_type": "stream",
          "name": "stdout",
          "text": [
            "X  ->  43.310800194740295\n"
          ]
        },
        {
          "output_type": "display_data",
          "data": {
            "text/plain": [
              "<PIL.Image.Image image mode=RGB size=154x41 at 0x7FE1FB25D510>"
            ],
            "image/png": "[encoded data removed]"
          },
          "metadata": {}
        },
        {
          "output_type": "stream",
          "name": "stdout",
          "text": [
            "J  ->  99.02847409248352\n"
          ]
        },
        {
          "output_type": "display_data",
          "data": {
            "text/plain": [
              "<PIL.Image.Image image mode=RGB size=154x41 at 0x7FE1FB25D990>"
            ],
            "image/png": "[encoded data removed]"
          },
          "metadata": {}
        },
        {
          "output_type": "stream",
          "name": "stdout",
          "text": [
            "W  ->  92.7212655544281\n"
          ]
        },
        {
          "output_type": "display_data",
          "data": {
            "text/plain": [
              "<PIL.Image.Image image mode=RGB size=154x41 at 0x7FE1FB25D410>"
            ],
            "image/png": "[encoded data removed]"
          },
          "metadata": {}
        }
      ]
    },
    {
      "cell_type": "code",
      "source": [
        "def extract_roi(img, margin=2):\n",
        "  roi = img[y - margin:y + h, x - margin:x + w + margin]\n",
        "  return roi"
      ],
      "metadata": {
        "id": "CnHyYO0ZuRKx"
      },
      "execution_count": 39,
      "outputs": []
    },
    {
      "cell_type": "code",
      "source": [
        "conts = find_contours(dilation.copy())\n",
        "characters = []\n",
        "for c in conts:\n",
        "  (x, y, w, h) = cv2.boundingRect(c)\n",
        "  if (w >= min_w and w <= max_w) and (h >= min_h and h <= max_h):\n",
        "    process_box(gray, x, y, w, h)"
      ],
      "metadata": {
        "colab": {
          "base_uri": "https://localhost:8080/",
          "height": 213
        },
        "id": "GayGV6TDuSbz",
        "outputId": "bf4d9a69-22c5-48be-9b84-6211e5b7302e"
      },
      "execution_count": 40,
      "outputs": [
        {
          "output_type": "display_data",
          "data": {
            "text/plain": [
              "<PIL.Image.Image image mode=L size=28x28 at 0x7FE1FB25D7D0>"
            ],
            "image/png": "[encoded data removed]"
          },
          "metadata": {}
        },
        {
          "output_type": "display_data",
          "data": {
            "text/plain": [
              "<PIL.Image.Image image mode=L size=28x28 at 0x7FE1FB25D7D0>"
            ],
            "image/png": "[encoded data removed]"
          },
          "metadata": {}
        },
        {
          "output_type": "display_data",
          "data": {
            "text/plain": [
              "<PIL.Image.Image image mode=L size=28x28 at 0x7FE1FB25D7D0>"
            ],
            "image/png": "[encoded data removed]"
          },
          "metadata": {}
        },
        {
          "output_type": "display_data",
          "data": {
            "text/plain": [
              "<PIL.Image.Image image mode=L size=28x28 at 0x7FE1FB25D7D0>"
            ],
            "image/png": "[encoded data removed]"
          },
          "metadata": {}
        },
        {
          "output_type": "display_data",
          "data": {
            "text/plain": [
              "<PIL.Image.Image image mode=L size=28x28 at 0x7FE1FB25D7D0>"
            ],
            "image/png": "[encoded data removed]"
          },
          "metadata": {}
        },
        {
          "output_type": "display_data",
          "data": {
            "text/plain": [
              "<PIL.Image.Image image mode=L size=28x28 at 0x7FE1FB25D950>"
            ],
            "image/png": "[encoded data removed]"
          },
          "metadata": {}
        },
        {
          "output_type": "display_data",
          "data": {
            "text/plain": [
              "<PIL.Image.Image image mode=L size=28x28 at 0x7FE1FB25D950>"
            ],
            "image/png": "[encoded data removed]"
          },
          "metadata": {}
        }
      ]
    },
    {
      "cell_type": "code",
      "source": [
        "boxes = [b[1] for b in characters]\n",
        "pixels = np.array([p[0] for p in characters], dtype='float32')\n",
        "predictions = model.predict(pixels)"
      ],
      "metadata": {
        "id": "2I3KxrSMuV3K"
      },
      "execution_count": 41,
      "outputs": []
    },
    {
      "cell_type": "code",
      "source": [
        "img_copy = img.copy()\n",
        "for (prediction, (x, y, w, h)) in zip(predictions, boxes):\n",
        "  i = np.argmax(prediction)\n",
        "  probability = prediction[i]\n",
        "  character = characters_list[i]\n",
        "  \n",
        "  cv2.rectangle(img_copy, (x, y), (x + w, y + h), (255,100,0), 2)\n",
        "  cv2.putText(img_copy, character, (x - 10, y - 10), cv2.FONT_HERSHEY_SIMPLEX, 1.1, (0,0,255), 2)\n",
        "  print(character, ' -> ', probability * 100)\n",
        "\n",
        "  cv2_imshow(img_copy)"
      ],
      "metadata": {
        "colab": {
          "base_uri": "https://localhost:8080/",
          "height": 426
        },
        "id": "1IV0IRktuaiI",
        "outputId": "6ad90039-deee-469d-f1fc-a24e7fa874b8"
      },
      "execution_count": 42,
      "outputs": [
        {
          "output_type": "stream",
          "name": "stdout",
          "text": [
            "C  ->  99.96103644371033\n"
          ]
        },
        {
          "output_type": "display_data",
          "data": {
            "text/plain": [
              "<PIL.Image.Image image mode=RGB size=154x41 at 0x7FE1FA1FA0D0>"
            ],
            "image/png": "[encoded data removed]"
          },
          "metadata": {}
        },
        {
          "output_type": "stream",
          "name": "stdout",
          "text": [
            "G  ->  88.00539374351501\n"
          ]
        },
        {
          "output_type": "display_data",
          "data": {
            "text/plain": [
              "<PIL.Image.Image image mode=RGB size=154x41 at 0x7FE1FB25D3D0>"
            ],
            "image/png": "[encoded data removed]"
          },
          "metadata": {}
        },
        {
          "output_type": "stream",
          "name": "stdout",
          "text": [
            "L  ->  81.85683488845825\n"
          ]
        },
        {
          "output_type": "display_data",
          "data": {
            "text/plain": [
              "<PIL.Image.Image image mode=RGB size=154x41 at 0x7FE1FA1FA050>"
            ],
            "image/png": "[encoded data removed]"
          },
          "metadata": {}
        },
        {
          "output_type": "stream",
          "name": "stdout",
          "text": [
            "L  ->  92.35275983810425\n"
          ]
        },
        {
          "output_type": "display_data",
          "data": {
            "text/plain": [
              "<PIL.Image.Image image mode=RGB size=154x41 at 0x7FE1FA1FA210>"
            ],
            "image/png": "[encoded data removed]"
          },
          "metadata": {}
        },
        {
          "output_type": "stream",
          "name": "stdout",
          "text": [
            "L  ->  77.43433117866516\n"
          ]
        },
        {
          "output_type": "display_data",
          "data": {
            "text/plain": [
              "<PIL.Image.Image image mode=RGB size=154x41 at 0x7FE1FA1FA090>"
            ],
            "image/png": "[encoded data removed]"
          },
          "metadata": {}
        },
        {
          "output_type": "stream",
          "name": "stdout",
          "text": [
            "J  ->  99.094158411026\n"
          ]
        },
        {
          "output_type": "display_data",
          "data": {
            "text/plain": [
              "<PIL.Image.Image image mode=RGB size=154x41 at 0x7FE1FA1FA050>"
            ],
            "image/png": "[encoded data removed]"
          },
          "metadata": {}
        },
        {
          "output_type": "stream",
          "name": "stdout",
          "text": [
            "W  ->  96.77428603172302\n"
          ]
        },
        {
          "output_type": "display_data",
          "data": {
            "text/plain": [
              "<PIL.Image.Image image mode=RGB size=154x41 at 0x7FE1FB269E10>"
            ],
            "image/png": "[encoded data removed]"
          },
          "metadata": {}
        }
      ]
    },
    {
      "cell_type": "code",
      "source": [
        ""
      ],
      "metadata": {
        "id": "68egR5S3ujXg"
      },
      "execution_count": null,
      "outputs": []
    }
  ]
}